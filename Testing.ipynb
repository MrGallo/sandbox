{
  "nbformat": 4,
  "nbformat_minor": 0,
  "metadata": {
    "colab": {
      "name": "Testing",
      "version": "0.3.2",
      "provenance": [],
      "include_colab_link": true
    },
    "kernelspec": {
      "name": "python3",
      "display_name": "Python 3"
    }
  },
  "cells": [
    {
      "cell_type": "markdown",
      "metadata": {
        "id": "view-in-github",
        "colab_type": "text"
      },
      "source": [
        "<a href=\"https://colab.research.google.com/github/MrGallo/sandbox/blob/master/Testing.ipynb\" target=\"_parent\"><img src=\"https://colab.research.google.com/assets/colab-badge.svg\" alt=\"Open In Colab\"/></a>"
      ]
    },
    {
      "metadata": {
        "id": "429plGrzAGF0",
        "colab_type": "toc"
      },
      "cell_type": "markdown",
      "source": [
        ">[Testing](#folderId=0B6R8LoXsF8F6Z203N1ZFM0xOWjQ&updateTitle=true&scrollTo=4NWzTHAz_ZNm)\n",
        "\n",
        ">>[Section 1](#folderId=0B6R8LoXsF8F6Z203N1ZFM0xOWjQ&updateTitle=true&scrollTo=vlk08ruDAJPZ)\n",
        "\n"
      ]
    },
    {
      "metadata": {
        "id": "4NWzTHAz_ZNm",
        "colab_type": "text"
      },
      "cell_type": "markdown",
      "source": [
        "# Testing\n",
        "Testing 123456\n",
        "\n",
        "- one\n",
        "- two\n",
        "- three"
      ]
    },
    {
      "metadata": {
        "id": "8tD0aPvJ_X3O",
        "colab_type": "code",
        "outputId": "951f8b90-2579-4bd6-96c6-d868f1d53617",
        "colab": {
          "base_uri": "https://localhost:8080/",
          "height": 51
        }
      },
      "cell_type": "code",
      "source": [
        "a = 5\n",
        "b = 7\n",
        "print(\"hello world\")\n",
        "print(f\"the sum of {a} and {b} is {a+b}\")"
      ],
      "execution_count": 0,
      "outputs": [
        {
          "output_type": "stream",
          "text": [
            "hello world\n",
            "the sum of 5 and 7 is 12\n"
          ],
          "name": "stdout"
        }
      ]
    },
    {
      "metadata": {
        "id": "vlk08ruDAJPZ",
        "colab_type": "text"
      },
      "cell_type": "markdown",
      "source": [
        "## Section 1\n",
        "Blah blah"
      ]
    }
  ]
}